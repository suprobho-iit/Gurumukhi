{
  "nbformat": 4,
  "nbformat_minor": 0,
  "metadata": {
    "colab": {
      "provenance": []
    },
    "kernelspec": {
      "name": "python3",
      "display_name": "Python 3"
    },
    "language_info": {
      "name": "python"
    },
    "gpuClass": "standard",
    "accelerator": "GPU"
  },
  "cells": [
    {
      "cell_type": "markdown",
      "source": [
        "NAME: SUPROBHO GUPTA"
      ],
      "metadata": {
        "id": "qoBsfOIlFkEt"
      }
    },
    {
      "cell_type": "markdown",
      "source": [
        "ROLL NUMBER: M22AI651"
      ],
      "metadata": {
        "id": "V7A-Vr1fFoEV"
      }
    },
    {
      "cell_type": "code",
      "execution_count": 4,
      "metadata": {
        "colab": {
          "base_uri": "https://localhost:8080/"
        },
        "id": "GYGDZ4cJtCt_",
        "outputId": "20e187a5-e82f-4d26-e439-f97c8f2bafe4"
      },
      "outputs": [
        {
          "output_type": "stream",
          "name": "stdout",
          "text": [
            "Looking in indexes: https://pypi.org/simple, https://us-python.pkg.dev/colab-wheels/public/simple/\n",
            "Requirement already satisfied: tensorflow in /usr/local/lib/python3.10/dist-packages (2.12.0)\n",
            "Requirement already satisfied: absl-py>=1.0.0 in /usr/local/lib/python3.10/dist-packages (from tensorflow) (1.4.0)\n",
            "Requirement already satisfied: astunparse>=1.6.0 in /usr/local/lib/python3.10/dist-packages (from tensorflow) (1.6.3)\n",
            "Requirement already satisfied: protobuf!=4.21.0,!=4.21.1,!=4.21.2,!=4.21.3,!=4.21.4,!=4.21.5,<5.0.0dev,>=3.20.3 in /usr/local/lib/python3.10/dist-packages (from tensorflow) (3.20.3)\n",
            "Requirement already satisfied: grpcio<2.0,>=1.24.3 in /usr/local/lib/python3.10/dist-packages (from tensorflow) (1.54.0)\n",
            "Requirement already satisfied: wrapt<1.15,>=1.11.0 in /usr/local/lib/python3.10/dist-packages (from tensorflow) (1.14.1)\n",
            "Requirement already satisfied: google-pasta>=0.1.1 in /usr/local/lib/python3.10/dist-packages (from tensorflow) (0.2.0)\n",
            "Requirement already satisfied: keras<2.13,>=2.12.0 in /usr/local/lib/python3.10/dist-packages (from tensorflow) (2.12.0)\n",
            "Requirement already satisfied: gast<=0.4.0,>=0.2.1 in /usr/local/lib/python3.10/dist-packages (from tensorflow) (0.4.0)\n",
            "Requirement already satisfied: setuptools in /usr/local/lib/python3.10/dist-packages (from tensorflow) (67.7.2)\n",
            "Requirement already satisfied: jax>=0.3.15 in /usr/local/lib/python3.10/dist-packages (from tensorflow) (0.4.8)\n",
            "Requirement already satisfied: opt-einsum>=2.3.2 in /usr/local/lib/python3.10/dist-packages (from tensorflow) (3.3.0)\n",
            "Requirement already satisfied: tensorflow-estimator<2.13,>=2.12.0 in /usr/local/lib/python3.10/dist-packages (from tensorflow) (2.12.0)\n",
            "Requirement already satisfied: typing-extensions>=3.6.6 in /usr/local/lib/python3.10/dist-packages (from tensorflow) (4.5.0)\n",
            "Requirement already satisfied: packaging in /usr/local/lib/python3.10/dist-packages (from tensorflow) (23.1)\n",
            "Requirement already satisfied: libclang>=13.0.0 in /usr/local/lib/python3.10/dist-packages (from tensorflow) (16.0.0)\n",
            "Requirement already satisfied: termcolor>=1.1.0 in /usr/local/lib/python3.10/dist-packages (from tensorflow) (2.3.0)\n",
            "Requirement already satisfied: six>=1.12.0 in /usr/local/lib/python3.10/dist-packages (from tensorflow) (1.16.0)\n",
            "Requirement already satisfied: numpy<1.24,>=1.22 in /usr/local/lib/python3.10/dist-packages (from tensorflow) (1.22.4)\n",
            "Requirement already satisfied: tensorflow-io-gcs-filesystem>=0.23.1 in /usr/local/lib/python3.10/dist-packages (from tensorflow) (0.32.0)\n",
            "Requirement already satisfied: flatbuffers>=2.0 in /usr/local/lib/python3.10/dist-packages (from tensorflow) (23.3.3)\n",
            "Requirement already satisfied: tensorboard<2.13,>=2.12 in /usr/local/lib/python3.10/dist-packages (from tensorflow) (2.12.2)\n",
            "Requirement already satisfied: h5py>=2.9.0 in /usr/local/lib/python3.10/dist-packages (from tensorflow) (3.8.0)\n",
            "Requirement already satisfied: wheel<1.0,>=0.23.0 in /usr/local/lib/python3.10/dist-packages (from astunparse>=1.6.0->tensorflow) (0.40.0)\n",
            "Requirement already satisfied: scipy>=1.7 in /usr/local/lib/python3.10/dist-packages (from jax>=0.3.15->tensorflow) (1.10.1)\n",
            "Requirement already satisfied: ml-dtypes>=0.0.3 in /usr/local/lib/python3.10/dist-packages (from jax>=0.3.15->tensorflow) (0.1.0)\n",
            "Requirement already satisfied: google-auth-oauthlib<1.1,>=0.5 in /usr/local/lib/python3.10/dist-packages (from tensorboard<2.13,>=2.12->tensorflow) (1.0.0)\n",
            "Requirement already satisfied: tensorboard-data-server<0.8.0,>=0.7.0 in /usr/local/lib/python3.10/dist-packages (from tensorboard<2.13,>=2.12->tensorflow) (0.7.0)\n",
            "Requirement already satisfied: tensorboard-plugin-wit>=1.6.0 in /usr/local/lib/python3.10/dist-packages (from tensorboard<2.13,>=2.12->tensorflow) (1.8.1)\n",
            "Requirement already satisfied: werkzeug>=1.0.1 in /usr/local/lib/python3.10/dist-packages (from tensorboard<2.13,>=2.12->tensorflow) (2.3.0)\n",
            "Requirement already satisfied: google-auth<3,>=1.6.3 in /usr/local/lib/python3.10/dist-packages (from tensorboard<2.13,>=2.12->tensorflow) (2.17.3)\n",
            "Requirement already satisfied: markdown>=2.6.8 in /usr/local/lib/python3.10/dist-packages (from tensorboard<2.13,>=2.12->tensorflow) (3.4.3)\n",
            "Requirement already satisfied: requests<3,>=2.21.0 in /usr/local/lib/python3.10/dist-packages (from tensorboard<2.13,>=2.12->tensorflow) (2.27.1)\n",
            "Requirement already satisfied: pyasn1-modules>=0.2.1 in /usr/local/lib/python3.10/dist-packages (from google-auth<3,>=1.6.3->tensorboard<2.13,>=2.12->tensorflow) (0.3.0)\n",
            "Requirement already satisfied: rsa<5,>=3.1.4 in /usr/local/lib/python3.10/dist-packages (from google-auth<3,>=1.6.3->tensorboard<2.13,>=2.12->tensorflow) (4.9)\n",
            "Requirement already satisfied: cachetools<6.0,>=2.0.0 in /usr/local/lib/python3.10/dist-packages (from google-auth<3,>=1.6.3->tensorboard<2.13,>=2.12->tensorflow) (5.3.0)\n",
            "Requirement already satisfied: requests-oauthlib>=0.7.0 in /usr/local/lib/python3.10/dist-packages (from google-auth-oauthlib<1.1,>=0.5->tensorboard<2.13,>=2.12->tensorflow) (1.3.1)\n",
            "Requirement already satisfied: idna<4,>=2.5 in /usr/local/lib/python3.10/dist-packages (from requests<3,>=2.21.0->tensorboard<2.13,>=2.12->tensorflow) (3.4)\n",
            "Requirement already satisfied: charset-normalizer~=2.0.0 in /usr/local/lib/python3.10/dist-packages (from requests<3,>=2.21.0->tensorboard<2.13,>=2.12->tensorflow) (2.0.12)\n",
            "Requirement already satisfied: urllib3<1.27,>=1.21.1 in /usr/local/lib/python3.10/dist-packages (from requests<3,>=2.21.0->tensorboard<2.13,>=2.12->tensorflow) (1.26.15)\n",
            "Requirement already satisfied: certifi>=2017.4.17 in /usr/local/lib/python3.10/dist-packages (from requests<3,>=2.21.0->tensorboard<2.13,>=2.12->tensorflow) (2022.12.7)\n",
            "Requirement already satisfied: MarkupSafe>=2.1.1 in /usr/local/lib/python3.10/dist-packages (from werkzeug>=1.0.1->tensorboard<2.13,>=2.12->tensorflow) (2.1.2)\n",
            "Requirement already satisfied: pyasn1<0.6.0,>=0.4.6 in /usr/local/lib/python3.10/dist-packages (from pyasn1-modules>=0.2.1->google-auth<3,>=1.6.3->tensorboard<2.13,>=2.12->tensorflow) (0.5.0)\n",
            "Requirement already satisfied: oauthlib>=3.0.0 in /usr/local/lib/python3.10/dist-packages (from requests-oauthlib>=0.7.0->google-auth-oauthlib<1.1,>=0.5->tensorboard<2.13,>=2.12->tensorflow) (3.2.2)\n"
          ]
        }
      ],
      "source": [
        "!pip install tensorflow"
      ]
    },
    {
      "cell_type": "code",
      "source": [
        "!nvidia-smi"
      ],
      "metadata": {
        "colab": {
          "base_uri": "https://localhost:8080/"
        },
        "id": "QSJNWF_Ut31W",
        "outputId": "5b34c878-a3d4-420a-8d21-56a275815544"
      },
      "execution_count": 5,
      "outputs": [
        {
          "output_type": "stream",
          "name": "stdout",
          "text": [
            "Sat Apr 29 17:39:52 2023       \n",
            "+-----------------------------------------------------------------------------+\n",
            "| NVIDIA-SMI 525.85.12    Driver Version: 525.85.12    CUDA Version: 12.0     |\n",
            "|-------------------------------+----------------------+----------------------+\n",
            "| GPU  Name        Persistence-M| Bus-Id        Disp.A | Volatile Uncorr. ECC |\n",
            "| Fan  Temp  Perf  Pwr:Usage/Cap|         Memory-Usage | GPU-Util  Compute M. |\n",
            "|                               |                      |               MIG M. |\n",
            "|===============================+======================+======================|\n",
            "|   0  Tesla T4            Off  | 00000000:00:04.0 Off |                    0 |\n",
            "| N/A   33C    P8     9W /  70W |      0MiB / 15360MiB |      0%      Default |\n",
            "|                               |                      |                  N/A |\n",
            "+-------------------------------+----------------------+----------------------+\n",
            "                                                                               \n",
            "+-----------------------------------------------------------------------------+\n",
            "| Processes:                                                                  |\n",
            "|  GPU   GI   CI        PID   Type   Process name                  GPU Memory |\n",
            "|        ID   ID                                                   Usage      |\n",
            "|=============================================================================|\n",
            "|  No running processes found                                                 |\n",
            "+-----------------------------------------------------------------------------+\n"
          ]
        }
      ]
    },
    {
      "cell_type": "markdown",
      "source": [
        "Setting Training and Testing path"
      ],
      "metadata": {
        "id": "BFT42lbcFrYU"
      }
    },
    {
      "cell_type": "code",
      "source": [
        "train_path='/content/drive/MyDrive/Machine Learning Datasets/GurNum/train'\n",
        "test_path='/content/drive/MyDrive/Machine Learning Datasets/GurNum/val'\n"
      ],
      "metadata": {
        "id": "H-hqCkVcGicO"
      },
      "execution_count": 6,
      "outputs": []
    },
    {
      "cell_type": "markdown",
      "source": [
        "Importing necessary libraries"
      ],
      "metadata": {
        "id": "tw1WtQMKFvaE"
      }
    },
    {
      "cell_type": "code",
      "source": [
        "import tensorflow as tf\n",
        "from tensorflow import keras\n",
        "import matplotlib.pyplot as plt\n",
        "%matplotlib inline\n",
        "import numpy as np\n"
      ],
      "metadata": {
        "id": "1yYrMvfkGxv6"
      },
      "execution_count": 7,
      "outputs": []
    },
    {
      "cell_type": "markdown",
      "source": [
        "Creating Labels"
      ],
      "metadata": {
        "id": "-sllzMbxFyft"
      }
    },
    {
      "cell_type": "code",
      "source": [
        "import numpy as np\n",
        "\n",
        "def create_label(image_name):\n",
        "    \"\"\" Create an one-hot encoded vector from image name \"\"\" \n",
        "    if image_name == '0':  \n",
        "        return np.array([1,0,0,0,0,0,0,0,0,0])\n",
        "    elif image_name == '1':\n",
        "        return np.array([0,1,0,0,0,0,0,0,0,0])\n",
        "    elif image_name == '2':\n",
        "        return np.array([0,0,1,0,0,0,0,0,0,0])\n",
        "    elif image_name == '3':\n",
        "        return np.array([0,0,0,1,0,0,0,0,0,0])\n",
        "    elif image_name == '4':\n",
        "        return np.array([0,0,0,0,1,0,0,0,0,0])\n",
        "    elif image_name == '5':\n",
        "        return np.array([0,0,0,0,0,1,0,0,0,0])\n",
        "    elif image_name == '6':\n",
        "        return np.array([0,0,0,0,0,0,1,0,0,0])\n",
        "    elif image_name == '7':\n",
        "        return np.array([0,0,0,0,0,0,0,1,0,0])\n",
        "    elif image_name == '8':\n",
        "        return np.array([0,0,0,0,0,0,0,0,1,0])\n",
        "    elif image_name == '9':\n",
        "        return np.array([0,0,0,0,0,0,0,0,0,1])"
      ],
      "metadata": {
        "id": "oFZxZjVzPyqk"
      },
      "execution_count": 8,
      "outputs": []
    },
    {
      "cell_type": "markdown",
      "source": [
        "Logic for importing images"
      ],
      "metadata": {
        "id": "Lah6y8zpF04-"
      }
    },
    {
      "cell_type": "code",
      "source": [
        "import os\n",
        "import cv2\n",
        "from random import shuffle\n",
        "from tqdm import tqdm\n",
        "\n",
        "def create_data():\n",
        "    data = []\n",
        "    for folder in tqdm(os.listdir(\"/content/drive/MyDrive/Machine Learning Datasets/GurNum\")):\n",
        "      for folder1 in tqdm(os.listdir(\"/content/drive/MyDrive/Machine Learning Datasets/GurNum/\"+folder)):\n",
        "        for img in os.listdir(\"/content/drive/MyDrive/Machine Learning Datasets/GurNum/\"+folder+\"/\"+folder1):\n",
        "            path = os.path.join(\"/content/drive/MyDrive/Machine Learning Datasets/GurNum\",folder,folder1,img)\n",
        "            img_data = cv2.imread(path, cv2.IMREAD_GRAYSCALE)\n",
        "            try:\n",
        "                img_data = cv2.resize(img_data, (28,28))\n",
        "            except cv2.error as e:\n",
        "                continue\n",
        "            data.append([np.array(img_data), create_label(folder1)])\n",
        "    shuffle(data)\n",
        "    return data"
      ],
      "metadata": {
        "id": "qrk1jZxEPyxO"
      },
      "execution_count": 9,
      "outputs": []
    },
    {
      "cell_type": "code",
      "source": [],
      "metadata": {
        "id": "HvTA7RkO4516"
      },
      "execution_count": 9,
      "outputs": []
    },
    {
      "cell_type": "code",
      "source": [
        "data = create_data()"
      ],
      "metadata": {
        "colab": {
          "base_uri": "https://localhost:8080/"
        },
        "id": "tmoLmDn6Qdcv",
        "outputId": "db0ed4e4-923d-4647-de8a-5321d1ac0de7"
      },
      "execution_count": 10,
      "outputs": [
        {
          "output_type": "stream",
          "name": "stderr",
          "text": [
            "  0%|          | 0/2 [00:00<?, ?it/s]\n",
            "  0%|          | 0/10 [00:00<?, ?it/s]\u001b[A\n",
            " 10%|█         | 1/10 [00:08<01:13,  8.12s/it]\u001b[A\n",
            " 20%|██        | 2/10 [00:16<01:04,  8.10s/it]\u001b[A\n",
            " 30%|███       | 3/10 [00:23<00:53,  7.60s/it]\u001b[A\n",
            " 40%|████      | 4/10 [00:31<00:46,  7.80s/it]\u001b[A\n",
            " 50%|█████     | 5/10 [00:38<00:38,  7.72s/it]\u001b[A\n",
            " 60%|██████    | 6/10 [00:47<00:32,  8.00s/it]\u001b[A\n",
            " 70%|███████   | 7/10 [00:55<00:23,  7.88s/it]\u001b[A\n",
            " 80%|████████  | 8/10 [01:02<00:15,  7.86s/it]\u001b[A\n",
            " 90%|█████████ | 9/10 [01:10<00:07,  7.63s/it]\u001b[A\n",
            "100%|██████████| 10/10 [01:17<00:00,  7.72s/it]\n",
            " 50%|█████     | 1/2 [01:17<01:17, 77.55s/it]\n",
            "  0%|          | 0/10 [00:00<?, ?it/s]\u001b[A\n",
            " 10%|█         | 1/10 [00:02<00:26,  2.91s/it]\u001b[A\n",
            " 20%|██        | 2/10 [00:04<00:17,  2.13s/it]\u001b[A\n",
            " 30%|███       | 3/10 [00:06<00:13,  1.86s/it]\u001b[A\n",
            " 40%|████      | 4/10 [00:07<00:10,  1.75s/it]\u001b[A\n",
            " 50%|█████     | 5/10 [00:09<00:09,  1.84s/it]\u001b[A\n",
            " 60%|██████    | 6/10 [00:11<00:07,  1.88s/it]\u001b[A\n",
            " 70%|███████   | 7/10 [00:12<00:04,  1.67s/it]\u001b[A\n",
            " 80%|████████  | 8/10 [00:14<00:03,  1.66s/it]\u001b[A\n",
            " 90%|█████████ | 9/10 [00:15<00:01,  1.51s/it]\u001b[A\n",
            "100%|██████████| 10/10 [00:16<00:00,  1.68s/it]\n",
            "100%|██████████| 2/2 [01:34<00:00, 47.20s/it]\n"
          ]
        }
      ]
    },
    {
      "cell_type": "markdown",
      "source": [
        "Diving the data in Training and testing Data( in the ratio how it is divided in the dataset)"
      ],
      "metadata": {
        "id": "beFSVyEmF5TW"
      }
    },
    {
      "cell_type": "code",
      "source": [
        "train = data[:1000]\n",
        "test = data[1000:]\n",
        "X_train = np.array([i[0] for i in train]).reshape(-1, 28,28, 1)\n",
        "y_train = np.array([i[1] for i in train])\n",
        "X_test = np.array([i[0] for i in test]).reshape(-1, 28,28, 1)\n",
        "y_test = np.array([i[1] for i in test])"
      ],
      "metadata": {
        "id": "Q1q7X3sezwyW"
      },
      "execution_count": 11,
      "outputs": []
    },
    {
      "cell_type": "markdown",
      "source": [
        "Sample image from dataset"
      ],
      "metadata": {
        "id": "dfAqDFrLGHDY"
      }
    },
    {
      "cell_type": "code",
      "source": [
        "import matplotlib.pyplot as plt\n",
        "plt.matshow(X_train[100])\n"
      ],
      "metadata": {
        "colab": {
          "base_uri": "https://localhost:8080/",
          "height": 455
        },
        "id": "Si9-EgDkzz41",
        "outputId": "4eb6cdd6-92d2-4927-adaf-afc6f66363c2"
      },
      "execution_count": 12,
      "outputs": [
        {
          "output_type": "execute_result",
          "data": {
            "text/plain": [
              "<matplotlib.image.AxesImage at 0x7f2a1b42a470>"
            ]
          },
          "metadata": {},
          "execution_count": 12
        },
        {
          "output_type": "display_data",
          "data": {
            "text/plain": [
              "<Figure size 480x480 with 1 Axes>"
            ],
            "image/png": "[encoded data removed]"
          },
          "metadata": {}
        }
      ]
    },
    {
      "cell_type": "markdown",
      "source": [
        "Flattening the array"
      ],
      "metadata": {
        "id": "ovzjWNz8GKF7"
      }
    },
    {
      "cell_type": "code",
      "source": [
        "\n",
        "x_train = np.asarray(X_train).astype(np.float32)\n",
        "y_train = np.asarray(y_train).astype(np.float32)\n",
        "X_test = np.asarray(X_test).astype(np.float32)\n",
        "y_test = np.asarray(y_test).astype(np.float32)\n",
        "X_train_flattened=x_train.reshape(len(x_train),28*28)\n",
        "X_test_flattened=X_test.reshape(len(X_test),28*28)"
      ],
      "metadata": {
        "id": "7vCCKvMN1HdV"
      },
      "execution_count": 13,
      "outputs": []
    },
    {
      "cell_type": "code",
      "source": [
        "X_train_flattened[0]"
      ],
      "metadata": {
        "colab": {
          "base_uri": "https://localhost:8080/"
        },
        "id": "Ewt5vxu61bYl",
        "outputId": "397d1967-0f35-490b-d2b9-99936be9b098"
      },
      "execution_count": 14,
      "outputs": [
        {
          "output_type": "execute_result",
          "data": {
            "text/plain": [
              "array([255., 255., 255., 246., 237., 237., 237., 237., 237., 237., 237.,\n",
              "        85.,   0.,   0., 237., 237., 237., 237., 237., 237., 254., 255.,\n",
              "       255., 255., 255., 255., 255., 255., 255., 243., 200., 100.,   0.,\n",
              "         0.,   0.,   0.,   0.,   0.,   0.,   0.,   0.,   0.,   0.,   0.,\n",
              "         0.,   0.,   0.,   0., 186., 200., 212., 255., 255., 255., 255.,\n",
              "       255., 248., 129.,   0.,   0.,   0.,   0.,   0.,   0.,   0.,   0.,\n",
              "         0.,   0.,   0.,   0.,   0.,   0.,   0.,   0.,   0.,   0.,   0.,\n",
              "         0.,  55., 255., 255., 255., 255., 255., 118.,   0.,   0.,   0.,\n",
              "         0.,   0.,   0.,   0.,  27., 128., 128., 128., 128., 128., 128.,\n",
              "       128., 128.,  64.,   0.,   0.,   0.,   0.,  27., 128., 191., 255.,\n",
              "       255., 255.,   0.,   0.,   0.,   0.,   0.,   0.,   0., 164., 183.,\n",
              "       255., 255., 255., 255., 255., 255., 255., 255., 127.,   0.,   0.,\n",
              "         0.,   0.,   0.,   0., 127., 255., 255., 255.,   0.,   0.,   0.,\n",
              "         0.,   0.,   0., 186., 255., 255., 255., 255., 255., 255., 255.,\n",
              "       255., 255., 255., 127.,   0.,   0.,   0.,   0.,   0.,   0., 127.,\n",
              "       255., 255., 255., 220.,   0.,   0.,   0.,   0.,   0.,  17.,  18.,\n",
              "        69., 255., 255., 255., 255., 255., 255., 255., 255., 127.,   0.,\n",
              "         0.,   0.,   0.,   0.,   0., 127., 255., 255., 255., 255., 204.,\n",
              "        12.,   0.,   0.,   0.,   0.,   0.,   0.,   0., 118., 237., 237.,\n",
              "       237., 237., 237., 237., 118.,   0.,   0.,   0.,   0.,   4., 103.,\n",
              "       255., 255., 255., 255., 255., 255., 183.,  55.,  20.,   0.,   0.,\n",
              "         0.,   0.,   0.,   0.,   0.,   0.,   0.,   0.,   0.,   0.,   0.,\n",
              "         0.,   0.,   0.,   0.,  54., 255., 255., 255., 255., 255., 255.,\n",
              "       255., 255., 255., 150.,  91.,  91.,  85.,   0.,   0.,   0.,   0.,\n",
              "         0.,   0.,   0.,   0.,   0.,   0.,   0.,   0.,   0.,   0.,  55.,\n",
              "       255., 255., 255., 255., 255., 255., 255., 255., 255., 255., 255.,\n",
              "       255., 246., 128., 128., 128., 128., 128., 128.,   0.,   0.,   0.,\n",
              "         0.,   0.,   0.,   0.,   0.,  55., 255., 255., 255., 255., 255.,\n",
              "       255., 255., 255., 255., 255., 255., 255., 255., 255., 255., 255.,\n",
              "       255., 255., 255., 152.,   0.,   0.,   0.,   0.,   0.,   0.,  12.,\n",
              "       183., 255., 255., 255., 255., 255., 255., 255., 255., 255., 255.,\n",
              "       255., 255., 255., 255., 255., 255., 255., 255., 255.,  51.,   0.,\n",
              "         0.,   0.,   0.,   0.,   0.,  18., 255., 255., 255., 255., 255.,\n",
              "       255., 255., 255., 255., 255., 255., 255., 255., 255., 255., 255.,\n",
              "       255., 255., 255., 255.,   0.,   0.,   0.,   0.,   0.,   0., 220.,\n",
              "       238., 255., 255., 255., 255., 255., 255., 255., 255., 255., 255.,\n",
              "       255., 255., 255., 255., 255., 255., 255., 255., 255.,  18.,   0.,\n",
              "         0.,   0.,   0.,   0.,  14., 238., 255., 255., 255., 255., 255.,\n",
              "       255., 255., 255., 255., 255., 255., 255., 255., 255., 255., 255.,\n",
              "       255., 255., 255., 212.,  14.,   0.,   0.,   0.,   0.,   0., 200.,\n",
              "       255., 255., 255., 255., 255., 255., 255., 255., 255., 255., 255.,\n",
              "       255., 255., 255., 255., 255., 255., 255., 255., 196.,  35.,   0.,\n",
              "         0.,   0.,   0.,  46.,  91., 220., 255., 255., 255., 255., 255.,\n",
              "       255., 255., 255., 255., 255., 255., 255., 255., 255., 255., 255.,\n",
              "       255., 255., 191.,  46.,   0.,   0.,   0.,   0.,   0., 128., 255.,\n",
              "       255., 255., 255., 255., 255., 255., 255., 255., 255., 255., 255.,\n",
              "       255., 255., 255., 255., 255., 255., 255., 255., 127.,   0.,   0.,\n",
              "         0.,   0.,   0.,  59., 209., 255., 255., 255., 255., 255., 255.,\n",
              "       255., 255., 255., 255., 255., 255., 255., 255., 255., 255., 255.,\n",
              "       255., 255., 183.,  27.,   0.,   0.,   0.,   0.,   0.,  91., 255.,\n",
              "       255., 255., 255., 255., 255., 255., 255., 255., 255., 255., 255.,\n",
              "       255., 255., 255., 255., 255., 255., 255., 204.,  12.,   0.,   0.,\n",
              "         0.,   0.,   0.,  51., 243., 255., 255., 255., 255., 255., 255.,\n",
              "       255., 255., 255., 255., 255., 255., 255., 255., 255., 255., 255.,\n",
              "       255., 254., 186.,   0.,   0.,   0.,   0.,   0.,  35., 255., 255.,\n",
              "       255., 255., 255., 255., 255., 255., 255., 255., 255., 255., 255.,\n",
              "       255., 255., 255., 255., 255., 255., 255., 186.,   0.,   0.,   0.,\n",
              "         0.,   0.,   0., 255., 255., 255., 255., 255., 255., 255., 255.,\n",
              "       255., 255., 255., 255., 255., 255., 255., 255., 255., 255., 255.,\n",
              "       255., 170.,   0.,   0.,   0.,   0.,   0.,   0.,   0., 255., 255.,\n",
              "       255., 255., 255., 255., 255., 255., 255., 255., 255., 255., 255.,\n",
              "       255., 255., 255., 255., 255., 255., 255.,  18.,   0.,   0.,   0.,\n",
              "         0.,   0.,   0.,   0., 128., 128., 128., 128., 128., 128., 128.,\n",
              "       128., 128., 128., 128., 128., 128., 128., 255., 255., 255., 255.,\n",
              "       255., 255., 170.,   0.,   0.,   0.,   0.,   0.,   0.,   0.,   0.,\n",
              "         0.,   0.,   0.,   0.,   0.,   0.,   0.,   0.,   0.,   0.,   0.,\n",
              "         0.,   0., 255., 255., 255., 255., 255., 255., 255., 200., 157.,\n",
              "         0.,   0.,   0.,   0.,   0.,   0.,   0.,   0.,   0.,   0.,   0.,\n",
              "         0.,   0.,   0.,   0.,   0., 129., 200., 200., 255., 255., 255.,\n",
              "       255., 255., 255., 255., 255., 251., 237., 237.,  85.,   0.,   0.,\n",
              "         0.,   0.,  85., 237., 237., 237., 237., 237., 237., 237., 237.,\n",
              "       248., 255., 255.], dtype=float32)"
            ]
          },
          "metadata": {},
          "execution_count": 14
        }
      ]
    },
    {
      "cell_type": "markdown",
      "source": [],
      "metadata": {
        "id": "XxfC4ALtGPWp"
      }
    },
    {
      "cell_type": "markdown",
      "source": [
        "Creating a Nural network nad fitting our model"
      ],
      "metadata": {
        "id": "eP04HqOOGPco"
      }
    },
    {
      "cell_type": "code",
      "source": [
        "#X_train_flattened=np.array(X_train_flattened)\n",
        "model=keras.Sequential([keras.layers.Dense(10,input_shape=(784,),activation='sigmoid')])\n",
        "model.compile(optimizer='adam',\n",
        "              loss='BinaryCrossentropy',\n",
        "              metrics=['accuracy'])\n",
        "\n",
        "model.fit(X_train_flattened,y_train,epochs=20)"
      ],
      "metadata": {
        "colab": {
          "base_uri": "https://localhost:8080/"
        },
        "id": "V4pRZpGr3Own",
        "outputId": "8404932f-63d9-4df4-be2c-e8a0656ca0c8"
      },
      "execution_count": 15,
      "outputs": [
        {
          "output_type": "stream",
          "name": "stdout",
          "text": [
            "Epoch 1/20\n",
            "32/32 [==============================] - 5s 3ms/step - loss: 31.0580 - accuracy: 0.3230\n",
            "Epoch 2/20\n",
            "32/32 [==============================] - 0s 3ms/step - loss: 7.9176 - accuracy: 0.6190\n",
            "Epoch 3/20\n",
            "32/32 [==============================] - 0s 3ms/step - loss: 4.2351 - accuracy: 0.8030\n",
            "Epoch 4/20\n",
            "32/32 [==============================] - 0s 3ms/step - loss: 2.6107 - accuracy: 0.8630\n",
            "Epoch 5/20\n",
            "32/32 [==============================] - 0s 3ms/step - loss: 1.9426 - accuracy: 0.8910\n",
            "Epoch 6/20\n",
            "32/32 [==============================] - 0s 3ms/step - loss: 1.3775 - accuracy: 0.9210\n",
            "Epoch 7/20\n",
            "32/32 [==============================] - 0s 3ms/step - loss: 1.1769 - accuracy: 0.9240\n",
            "Epoch 8/20\n",
            "32/32 [==============================] - 0s 3ms/step - loss: 1.0128 - accuracy: 0.9420\n",
            "Epoch 9/20\n",
            "32/32 [==============================] - 0s 3ms/step - loss: 0.7791 - accuracy: 0.9550\n",
            "Epoch 10/20\n",
            "32/32 [==============================] - 0s 5ms/step - loss: 0.6626 - accuracy: 0.9550\n",
            "Epoch 11/20\n",
            "32/32 [==============================] - 0s 6ms/step - loss: 0.4967 - accuracy: 0.9680\n",
            "Epoch 12/20\n",
            "32/32 [==============================] - 0s 4ms/step - loss: 0.6743 - accuracy: 0.9670\n",
            "Epoch 13/20\n",
            "32/32 [==============================] - 0s 5ms/step - loss: 0.4512 - accuracy: 0.9780\n",
            "Epoch 14/20\n",
            "32/32 [==============================] - 0s 5ms/step - loss: 0.6051 - accuracy: 0.9580\n",
            "Epoch 15/20\n",
            "32/32 [==============================] - 0s 6ms/step - loss: 0.4175 - accuracy: 0.9770\n",
            "Epoch 16/20\n",
            "32/32 [==============================] - 0s 6ms/step - loss: 0.3091 - accuracy: 0.9790\n",
            "Epoch 17/20\n",
            "32/32 [==============================] - 0s 6ms/step - loss: 0.2314 - accuracy: 0.9830\n",
            "Epoch 18/20\n",
            "32/32 [==============================] - 0s 5ms/step - loss: 0.2715 - accuracy: 0.9750\n",
            "Epoch 19/20\n",
            "32/32 [==============================] - 0s 5ms/step - loss: 0.2491 - accuracy: 0.9850\n",
            "Epoch 20/20\n",
            "32/32 [==============================] - 0s 4ms/step - loss: 0.2082 - accuracy: 0.9860\n"
          ]
        },
        {
          "output_type": "execute_result",
          "data": {
            "text/plain": [
              "<keras.callbacks.History at 0x7f2a1872ae90>"
            ]
          },
          "metadata": {},
          "execution_count": 15
        }
      ]
    },
    {
      "cell_type": "markdown",
      "source": [
        "Evaluation"
      ],
      "metadata": {
        "id": "e-49C4kBGVkI"
      }
    },
    {
      "cell_type": "code",
      "source": [
        "model.evaluate(X_test_flattened,y_test)"
      ],
      "metadata": {
        "colab": {
          "base_uri": "https://localhost:8080/"
        },
        "id": "LCxUc4_TlpBf",
        "outputId": "5fd9598d-9fd2-4799-e697-b74be2efd56b"
      },
      "execution_count": 16,
      "outputs": [
        {
          "output_type": "stream",
          "name": "stdout",
          "text": [
            "6/6 [==============================] - 1s 6ms/step - loss: 1.5378 - accuracy: 0.9438\n"
          ]
        },
        {
          "output_type": "execute_result",
          "data": {
            "text/plain": [
              "[1.5377706289291382, 0.9438202381134033]"
            ]
          },
          "metadata": {},
          "execution_count": 16
        }
      ]
    },
    {
      "cell_type": "markdown",
      "source": [
        "we are getting 93% accuracy on testing set"
      ],
      "metadata": {
        "id": "K65x-jkwlSX2"
      }
    }
  ]
}
